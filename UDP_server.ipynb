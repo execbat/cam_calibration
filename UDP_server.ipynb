{
 "cells": [
  {
   "cell_type": "code",
   "execution_count": null,
   "id": "5df3adf1-d003-4e0b-a83c-90e7d8d46f14",
   "metadata": {},
   "outputs": [
    {
     "name": "stdout",
     "output_type": "stream",
     "text": [
      "\n"
     ]
    }
   ],
   "source": [
    "\n",
    "\n",
    "from IPython import display\n",
    "from collections import deque\n",
    "\n",
    "# import socket\n",
    "# import threading\n",
    "from multiprocessing import Manager, Process, Queue\n",
    "\n",
    "import time\n",
    "from lib_xml_tree import *\n",
    "from lib_connection import *\n",
    "from lib_config_loader import load_config\n",
    "from lib_manager_buffer import *\n",
    "\n",
    "\n",
    "def routine_for_camera(server_address, port, mess_input, mess_output):\n",
    "    conn = create_socket(server_address, port)\n",
    "    \n",
    "    # init variables supposed to send to camera\n",
    "    watchDog_out = '0' \n",
    "    frame_assigned = '0' \n",
    "    position_reached = '0' \n",
    "    need_cam_cal = '0'        \n",
    "    screenshot = '0' \n",
    "    \n",
    "    \n",
    "    while True:\n",
    "        telegram_from_robot = None\n",
    "        try:\n",
    "            # get message from robot (dict)\n",
    "            # if len(mess_input) > 0:\n",
    "            # if mess_input.has_message():\n",
    "            ################################################\n",
    "            #RECEIVING MESSAGES\n",
    "            ################################################ \n",
    "            \n",
    "            # GET MESSAGE FROM ROBOT SERVER-SUBPROCESS\n",
    "            telegram_from_robot = mess_input.get()\n",
    "            if telegram_from_robot is not None:\n",
    "                # extract data from telegram\n",
    "                try:\n",
    "                    watchDog_out = telegram_from_robot[\"WatchDog_out\"]\n",
    "                    frame_assigned = telegram_from_robot[\"Frame_assigned\"]\n",
    "                    position_reached = telegram_from_robot[\"Position_reached\"]\n",
    "                    need_cam_cal = telegram_from_robot[\"Need_cam_cal\"]\n",
    "                    screenshot = telegram_from_robot[\"Screenshot\"]\n",
    "                    DEF_RIst = telegram_from_robot['DEF_RIst']\n",
    "                    ipoc = telegram_from_robot[\"IPOC\"]\n",
    "                    \n",
    "                except Exception as ex:\n",
    "                    print(f\" Data can not be extracted from telegram from robot: {ex}\")                \n",
    "            # else:\n",
    "            #     print('camera has no messages from robot')\n",
    "\n",
    "            # GET MESSAGE FROM CAMERA CLIENT  \n",
    "            bytesAddressPair = conn.recvfrom(4096)            \n",
    "            ReceivedMessage = bytesAddressPair[0]\n",
    "            received_address = bytesAddressPair[1]\n",
    "            # # clientMsg = \"Message from { } : {}\".format(received_address, ReceivedMessage)\n",
    "            # clientIP = \"Client IP Address:{}\".format(received_address)\n",
    "            # # print(clientMsg)\n",
    "            # # print(clientIP)    \n",
    "            received_dict = extract_xml(ReceivedMessage)\n",
    "\n",
    "\n",
    "\n",
    "            ################################################\n",
    "            #SENDING MESSAGES\n",
    "            ################################################           \n",
    "\n",
    "            # SEND MESSAGE TO ROBOT SERVER-SUBPROCESS\n",
    "            mess_output.put(received_dict)\n",
    "            \n",
    "                     \n",
    "            # SEND MESSAGE TO CAMERA CLIENT\n",
    "            sent_mess_list = list() # This message to be sent from Server to Camera client\n",
    "            sent_mess_list.append({\"Sen\" : {'Type' : 'ServerToCamera'}})    \n",
    "            sent_mess_list.append({\"WatchDog_out\" : watchDog_out})  \n",
    "            sent_mess_list.append({'Frame_assigned': frame_assigned})\n",
    "            sent_mess_list.append({'Position_reached': position_reached})\n",
    "            sent_mess_list.append({'Need_cam_cal': need_cam_cal})\n",
    "            sent_mess_list.append({'Screenshot': screenshot})     \n",
    "            sent_mess_list.append({'DEF_RIst': DEF_RIst})   \n",
    "            #creating a new telegram to send\n",
    "            # telegram = create_xml(sent_mess_list)    \n",
    "            telegram = create_xml_fast(sent_mess_list)\n",
    "            # print(telegram)    \n",
    "            SendData(telegram, conn, received_address)\n",
    "            \n",
    "\n",
    "            time.sleep(0.001)\n",
    "\n",
    "        except Exception as e:\n",
    "            print(f\"[Server] Error in client thread: {e}\")\n",
    "            break\n",
    "\n",
    "\n",
    "\n",
    "def routine_for_robot(server_address, port, mess_input, mess_output):\n",
    "    conn = create_socket(server_address, port)\n",
    "    \n",
    "    # init variables supposed to send to robot\n",
    "    watchDog_in = '0'\n",
    "    frame_assign = '0'\n",
    "    move_next_pt = '0'\n",
    "    cam_cal_in_proc = '0'\n",
    "    see_4_targets = '0'\n",
    "    xyz1 = {'X': '0.0', 'Y': '0.0', 'Z': '0.0'}\n",
    "    xyz2 = {'X': '0.0', 'Y': '0.0', 'Z': '0.0'}\n",
    "    xyz3 = {'X': '0.0', 'Y': '0.0', 'Z': '0.0'}\n",
    "    xyz4 = {'X': '0.0', 'Y': '0.0', 'Z': '0.0'}\n",
    "    cam_cal_res = {'X': '0.0', 'Y': '0.0', 'Z': '0.0', 'A': '0.0', 'B': '0.0', 'C': '0.0'}\n",
    "    \n",
    "    while True:\n",
    "        telegram_from_camera = None\n",
    "        try:\n",
    "            # get message from camera (dict)\n",
    "            # if len(mess_input) > 0:\n",
    "            # if mess_input.has_message(): \n",
    "            ################################################\n",
    "            #RECEIVING MESSAGES\n",
    "            ################################################           \n",
    "\n",
    "            # GET MESSAGE FROM CAMERA SERVER-SUBPROCESS\n",
    "            telegram_from_camera = mess_input.get()\n",
    "            if telegram_from_camera is not None:\n",
    "            # extract data from telegram\n",
    "                try:\n",
    "                    watchDog_in = telegram_from_camera[\"WatchDog_in\"]\n",
    "                    frame_assign = telegram_from_camera[\"Frame_assign\"]\n",
    "                    move_next_pt = telegram_from_camera[\"Move_next_pt\"]\n",
    "                    cam_cal_in_proc = telegram_from_camera[\"Cam_cal_in_proc\"]\n",
    "                    see_4_targets = telegram_from_camera[\"See_4_targets\"]\n",
    "                    xyz1 = telegram_from_camera[\"XYZ1\"]\n",
    "                    xyz2 = telegram_from_camera[\"XYZ2\"]\n",
    "                    xyz3 = telegram_from_camera[\"XYZ3\"]\n",
    "                    xyz4 = telegram_from_camera[\"XYZ4\"]\n",
    "                    cam_cal_res = telegram_from_camera[\"CAM_CAL_RES\"]\n",
    "                    \n",
    "                    \n",
    "                except Exception as ex:\n",
    "                    print(f\" Data can not be extracted from telegram from camera: {ex}\")\n",
    "            # else:\n",
    "            #     print('robot has no messages from camera')\n",
    "                \n",
    "\n",
    "            # GET MESSAGE FROM ROBOT CLIENT\n",
    "            bytesAddressPair = conn.recvfrom(4096)            \n",
    "            ReceivedMessage = bytesAddressPair[0]\n",
    "            received_address = bytesAddressPair[1]\n",
    "            # clientMsg = \"Message from { } : {}\".format(received_address, ReceivedMessage)\n",
    "            # clientIP = \"Client IP Address:{}\".format(received_address)\n",
    "            # print('received from robot', ReceivedMessage)\n",
    "            # print(clientIP)    \n",
    "            received_dict = extract_xml(ReceivedMessage)\n",
    "\n",
    "\n",
    "            \n",
    "\n",
    "            ################################################\n",
    "            #SENDING MESSAGES\n",
    "            ################################################\n",
    "            \n",
    "            # SEND MESSAGE TO CAMERA SERVER-SUBPROCESS\n",
    "            mess_output.put(received_dict)            \n",
    "            \n",
    "            # print(clientIP, received_dict)\n",
    "            \n",
    "            # SEND MESSAGE TO ROBOT CLIENT\n",
    "            sent_mess_list = list() # This message to be sent from Server to KRC client\n",
    "            sent_mess_list.append({\"Sen\" : {'Type' : 'ImFree'}})   \n",
    "            sent_mess_list.append({'XYZ1': xyz1})\n",
    "            sent_mess_list.append({'XYZ2': xyz2})\n",
    "            sent_mess_list.append({'XYZ3': xyz3})\n",
    "            sent_mess_list.append({'XYZ4': xyz4})\n",
    "            sent_mess_list.append({'CAM_CAL_RES': cam_cal_res})\n",
    "            sent_mess_list.append({\"WatchDog_in\" : watchDog_in}) \n",
    "            sent_mess_list.append({\"Frame_assign\" : frame_assign}) \n",
    "            sent_mess_list.append({\"Move_next_pt\" : move_next_pt}) \n",
    "            sent_mess_list.append({\"Cam_cal_in_proc\" : cam_cal_in_proc}) \n",
    "            sent_mess_list.append({\"See_4_targets\" : see_4_targets}) \n",
    "            # sent_mess_list.append({'RKorr': {'X': '278.60', 'Y': '164.79', 'Z': '615.22', 'A': '0.0', 'B': '0.0', 'C': '0.0'}})  \n",
    "            sent_mess_list.append({'IPOC': received_dict['IPOC']})\n",
    "            \n",
    "            #creating a new telegram to send\n",
    "            # telegram = create_xml(sent_mess_list)\n",
    "            telegram = create_xml_fast(sent_mess_list)\n",
    "            # print('to send to robot', telegram)    \n",
    "            SendData(telegram, conn, received_address)\n",
    "\n",
    "            time.sleep(0.001)\n",
    "\n",
    "        except Exception as e:\n",
    "            print(f\"[Server] Error in client thread: {e}\")\n",
    "            break\n",
    "\n",
    "\n",
    "if __name__ == '__main__':\n",
    "    \n",
    "    # Load IP, PORT configuration from config\n",
    "    config = load_config()\n",
    "    server_address = config['server']['address']\n",
    "    robot_port = config['server']['robot_port']\n",
    "    camera_port = config['server']['camera_port']\n",
    "\n",
    "    \n",
    "\n",
    "    # Bind server's address and port to expect message from client\n",
    "    # conn_to_client_robot = create_socket(address = server_address, port = robot_port)\n",
    "    # conn_to_client_camera = create_socket(address = server_address, port = camera_port)\n",
    "\n",
    "    # Create shared messages from robot to camera and vice versa\n",
    "    with Manager() as manager:\n",
    "        mess_rob_to_cam = SingleMessageQueue(manager)\n",
    "        mess_cam_to_rob = SingleMessageQueue(manager)\n",
    "\n",
    "\n",
    "        p1 = Process(target=routine_for_robot, args=(server_address, robot_port, mess_cam_to_rob, mess_rob_to_cam))\n",
    "        p2 = Process(target=routine_for_camera, args=(server_address, camera_port, mess_rob_to_cam, mess_cam_to_rob))\n",
    "\n",
    "        p1.start()\n",
    "        p2.start()\n",
    "    \n",
    "        print('UDP server is turning on (multiprocessing mode)')\n",
    "        try:\n",
    "            while True:\n",
    "                time.sleep(0.001)\n",
    "                display.clear_output(wait=True)\n",
    "        except KeyboardInterrupt:\n",
    "            print(\"Shutting down...\")\n",
    "    \n",
    "        # Остановка процессов\n",
    "        p1.terminate()\n",
    "        p2.terminate()\n",
    "        p1.join()\n",
    "        p2.join()\n",
    "\n",
    "\n",
    "                \n",
    "        "
   ]
  },
  {
   "cell_type": "code",
   "execution_count": null,
   "id": "d08a577f-0252-4d42-81fa-ad85614356f7",
   "metadata": {},
   "outputs": [],
   "source": []
  },
  {
   "cell_type": "code",
   "execution_count": null,
   "id": "fd0d2937-4db3-4d71-addd-9f73fbf05a1e",
   "metadata": {},
   "outputs": [],
   "source": []
  },
  {
   "cell_type": "code",
   "execution_count": null,
   "id": "7f9a34d3-3e15-4bab-982c-d182c4bd7127",
   "metadata": {},
   "outputs": [],
   "source": []
  },
  {
   "cell_type": "code",
   "execution_count": null,
   "id": "b6ac0313-b4ae-457b-ad00-60fd7b424aec",
   "metadata": {},
   "outputs": [],
   "source": []
  },
  {
   "cell_type": "code",
   "execution_count": null,
   "id": "6b8fce7f-924a-4995-ae91-7d2a58bd3869",
   "metadata": {},
   "outputs": [],
   "source": []
  },
  {
   "cell_type": "code",
   "execution_count": null,
   "id": "768004a0-2765-4b25-a77b-886068032682",
   "metadata": {},
   "outputs": [],
   "source": []
  },
  {
   "cell_type": "code",
   "execution_count": null,
   "id": "7bccf2a8-3de6-47f1-9653-ab56f15bd4f9",
   "metadata": {},
   "outputs": [],
   "source": []
  },
  {
   "cell_type": "code",
   "execution_count": null,
   "id": "000e2a31-3892-4f81-8246-5d60108dd9b9",
   "metadata": {},
   "outputs": [],
   "source": []
  },
  {
   "cell_type": "code",
   "execution_count": null,
   "id": "ebd6f716-0bdc-4c9f-9a7f-f82f96b33de1",
   "metadata": {},
   "outputs": [],
   "source": []
  },
  {
   "cell_type": "code",
   "execution_count": null,
   "id": "5c2f966c-9528-4b39-90f7-26fb23c93cc4",
   "metadata": {},
   "outputs": [],
   "source": [
    "# Creates structure for ambedding into the xml package, which will be send to robot\n",
    "def create_Rkorr_for_sending(frame = {'X' : 0, 'Y' : 0, 'Z' : 0}):  #frame = {'X' : float, 'Y' : float, 'Z' : float, 'A' : float, 'B' : float, 'C' : float}\n",
    "    # print(frame)\n",
    "    Rkorr = {'X' : str(frame['X']), \n",
    "             'Y' : str(frame['Y']), \n",
    "             'Z' : str(frame['Z'])}\n",
    "    \n",
    "    return Rkorr\n",
    "\n",
    "\n",
    "def create_xml(target_frame_1 = {'X' : 0.100, 'Y' : 1.000, 'Z' : 0.030, 'A' : 0.000, 'B' : 0.000, 'C' : 0.000},\n",
    "              target_frame_2 = {'X' : 0, 'Y' : 0, 'Z' : 0},\n",
    "              target_frame_3 = {'X' : 0, 'Y' : 0, 'Z' : 0},\n",
    "              target_frame_4 = {'X' : 0, 'Y' : 0, 'Z' : 0},\n",
    "              IPOCtimerReseived = '123456789'):\n",
    "\n",
    "    SenAttr = dict(Type='ImFree')\n",
    "\n",
    "    root = xml.Element(\"Sen\", SenAttr)\n",
    "    \n",
    "    ################# RESTORE IT ##################\n",
    "    RkorrArrt_1 = create_Rkorr_for_sending(target_frame_1)\n",
    "    Rkorr_1 = xml.SubElement(root, \"RKorr\", RkorrArrt_1)\n",
    "    ################################################\n",
    "    #print(RkorrArrt_1)\n",
    "    #print(Rkorr_1)\n",
    "\n",
    "\n",
    "\n",
    "\n",
    "\n",
    "    #RkorrArrt = dict(X='0.03')\n",
    "    #Rkorr = xml.SubElement(root, \"RKorr\", RkorrArrt)\n",
    "    #print(RkorrArrt) \n",
    "   \n",
    "\n",
    "\n",
    "\n",
    "\n",
    "    \n",
    "#     RkorrArrt_2 = create_Rkorr_for_sending(target_frame_2)\n",
    "#     Rkorr_2 = xml.SubElement(root, \"Rkorr\", RkorrArrt_2)\n",
    "    \n",
    "#     RkorrArrt_3 = create_Rkorr_for_sending(target_frame_3)\n",
    "#     Rkorr_3 = xml.SubElement(root, \"Rkorr\", RkorrArrt_3)\n",
    "    \n",
    "#     RkorrArrt_4 = create_Rkorr_for_sending(target_frame_4)\n",
    "#     Rkorr_4 = xml.SubElement(root, \"Rkorr\", RkorrArrt_4)\n",
    "    \n",
    "    \n",
    "    IPOC = xml.SubElement(root, \"IPOC\")\n",
    "    IPOC.text = IPOCtimerReseived\n",
    "    # IPOC.text = '123456789'\n",
    "    \n",
    "    \n",
    "    tree = xml.ElementTree(root)\n",
    "    \n",
    "    \n",
    "    DecodedTree = xml.tostring(root, encoding='utf8', method='xml', short_empty_elements='true', xml_declaration=False)\n",
    "    return(DecodedTree)\n",
    "\n"
   ]
  },
  {
   "cell_type": "code",
   "execution_count": 3,
   "id": "479657dd-ee54-465e-bb2a-7b74cb110d3f",
   "metadata": {},
   "outputs": [
    {
     "data": {
      "text/plain": [
       "b'<Sen Type=\"ImFree\"><RKorr X=\"1\" Y=\"2\" Z=\"3\" /><IPOC>123456789</IPOC></Sen>'"
      ]
     },
     "execution_count": 3,
     "metadata": {},
     "output_type": "execute_result"
    }
   ],
   "source": [
    "create_xml(target_frame_1 = {'X' : 1, 'Y' : 2, 'Z' : 3})"
   ]
  },
  {
   "cell_type": "code",
   "execution_count": 2,
   "id": "a499ed80-033b-482c-8b3c-9c4eab4e5d3e",
   "metadata": {},
   "outputs": [],
   "source": [
    "# Creates structure for ambedding into the xml package, which will be send to robot\n",
    "def create_Rkorr_for_sending(frame = {'X' : 0, 'Y' : 0, 'Z' : 0, 'A' : 0, 'B' : 0, 'C' : 0}):  #frame = {'X' : float, 'Y' : float, 'Z' : float, 'A' : float, 'B' : float, 'C' : float}\n",
    "    # print(frame)\n",
    "    Rkorr = dict(X = str(frame['X']), \n",
    "             Y = str(frame['Y']), \n",
    "             Z = str(frame['Z']),\n",
    "             A = str(frame['A']), \n",
    "             B = str(frame['B']), \n",
    "             C = str(frame['C'])\n",
    "\t\t\t)\n",
    "    \n",
    "    return Rkorr\n",
    "\n",
    "def create_xml(target_frame_1 = {'X' : 0.100, 'Y' : 1.000, 'Z' : 0.030, 'A' : 0.000, 'B' : 0.000, 'C' : 0.000},\n",
    "              target_frame_2 = {'X' : 0, 'Y' : 0, 'Z' : 0},\n",
    "              target_frame_3 = {'X' : 0, 'Y' : 0, 'Z' : 0},\n",
    "              target_frame_4 = {'X' : 0, 'Y' : 0, 'Z' : 0},\n",
    "              IPOCtimerReseived = '123456789'):\n",
    "\n",
    "    SenAttr = dict(Type='ImFree')\n",
    "\n",
    "    root = xml.Element(\"Sen\", SenAttr)\n",
    "    \n",
    "    ################# RESTORE IT ##################\n",
    "    RkorrArrt_1 = create_Rkorr_for_sending(target_frame_1)\n",
    "    Rkorr_1 = xml.SubElement(root, \"RKorr\", RkorrArrt_1)\n",
    "    ################################################\n",
    "    #print(RkorrArrt_1)\n",
    "    #print(Rkorr_1)\n",
    "\n",
    "\n",
    "\n",
    "\n",
    "\n",
    "    #RkorrArrt = dict(X='0.03')\n",
    "    #Rkorr = xml.SubElement(root, \"RKorr\", RkorrArrt)\n",
    "    #print(RkorrArrt) \n",
    "   \n",
    "\n",
    "\n",
    "\n",
    "\n",
    "    \n",
    "#     RkorrArrt_2 = create_Rkorr_for_sending(target_frame_2)\n",
    "#     Rkorr_2 = xml.SubElement(root, \"Rkorr\", RkorrArrt_2)\n",
    "    \n",
    "#     RkorrArrt_3 = create_Rkorr_for_sending(target_frame_3)\n",
    "#     Rkorr_3 = xml.SubElement(root, \"Rkorr\", RkorrArrt_3)\n",
    "    \n",
    "#     RkorrArrt_4 = create_Rkorr_for_sending(target_frame_4)\n",
    "#     Rkorr_4 = xml.SubElement(root, \"Rkorr\", RkorrArrt_4)\n",
    "    \n",
    "    \n",
    "    IPOC = xml.SubElement(root, \"IPOC\")\n",
    "    IPOC.text = IPOCtimerReseived\n",
    "    # IPOC.text = '123456789'\n",
    "    \n",
    "    \n",
    "    tree = xml.ElementTree(root)\n",
    "    \n",
    "    \n",
    "    DecodedTree = xml.tostring(root, encoding='utf8', method='xml', short_empty_elements='true', xml_declaration=False)\n",
    "    return(DecodedTree)"
   ]
  },
  {
   "cell_type": "code",
   "execution_count": 3,
   "id": "a99d382c-8387-4393-9bcd-0be0b36611a6",
   "metadata": {},
   "outputs": [
    {
     "data": {
      "text/plain": [
       "b'<Sen Type=\"ImFree\"><RKorr X=\"0.1\" Y=\"1.0\" Z=\"0.03\" A=\"0.0\" B=\"0.0\" C=\"0.0\" /><IPOC>123456789</IPOC></Sen>'"
      ]
     },
     "execution_count": 3,
     "metadata": {},
     "output_type": "execute_result"
    }
   ],
   "source": [
    "xml_parcel = create_xml()\n",
    "xml_parcel"
   ]
  },
  {
   "cell_type": "code",
   "execution_count": 16,
   "id": "85b0fa31-bf05-45cc-b996-689124066297",
   "metadata": {},
   "outputs": [],
   "source": [
    "def create_Rkorr_for_sending(frame = {'X' : 0, 'Y' : 0, 'Z' : 0, 'A' : 0, 'B' : 0, 'C' : 0}):  #frame = {'X' : float, 'Y' : float, 'Z' : float, 'A' : float, 'B' : float, 'C' : float}\n",
    "    # print(frame)\n",
    "    Rkorr = dict(X = str(frame['X']), \n",
    "             Y = str(frame['Y']), \n",
    "             Z = str(frame['Z'])\n",
    "\t\t\t)\n",
    "    \n",
    "    return Rkorr\n",
    "\n",
    "def create_xml(target_frame_1 = {'X' : 0.1, 'Y' : 0.2, 'Z' : 0.3},\n",
    "              target_frame_2 = {'X' : 0, 'Y' : 0, 'Z' : 0},\n",
    "              target_frame_3 = {'X' : 0, 'Y' : 0, 'Z' : 0},\n",
    "              target_frame_4 = {'X' : 0, 'Y' : 0, 'Z' : 0},\n",
    "              IPOCtimerReseived = '123456789'):\n",
    "\n",
    "    SenAttr = dict(Type='ImFree')\n",
    "\n",
    "    root = xml.Element(\"Sen\", SenAttr)\n",
    "\n",
    "    target_dict_1 = create_Rkorr_for_sending(target_frame_1)\n",
    "    target_sub_el_1 = xml.SubElement(root, \"XYZ1\", target_dict_1)\n",
    "\n",
    "    target_dict_2 = create_Rkorr_for_sending(target_frame_2)\n",
    "    target_sub_el_2 = xml.SubElement(root, \"XYZ2\", target_dict_2)\n",
    "\n",
    "    target_dict_3 = create_Rkorr_for_sending(target_frame_3)\n",
    "    target_sub_el_3 = xml.SubElement(root, \"XYZ3\", target_dict_3)\n",
    "\n",
    "    target_dict_4 = create_Rkorr_for_sending(target_frame_4)\n",
    "    target_sub_el_4 = xml.SubElement(root, \"XYZ4\", target_dict_4)\n",
    "\n",
    "    D_input_1 = xml.SubElement(root, \"IPOC\")\n",
    "    D_input_1.text = str(1)\n",
    "\n",
    "\n",
    "\n",
    "\n",
    "    \n",
    "    ################# RESTORE IT ##################\n",
    "#     RkorrArrt_1 = create_Rkorr_for_sending(target_frame_1)\n",
    "#     Rkorr_1 = xml.SubElement(root, \"RKorr\", RkorrArrt_1)\n",
    "    ################################################\n",
    "#     print(RkorrArrt_1)\n",
    "#     print(Rkorr_1)\n",
    "    \n",
    "#     RkorrArrt_2 = create_Rkorr_for_sending(target_frame_2)\n",
    "#     Rkorr_2 = xml.SubElement(root, \"Rkorr\", RkorrArrt_2)\n",
    "    \n",
    "#     RkorrArrt_3 = create_Rkorr_for_sending(target_frame_3)\n",
    "#     Rkorr_3 = xml.SubElement(root, \"Rkorr\", RkorrArrt_3)\n",
    "    \n",
    "#     RkorrArrt_4 = create_Rkorr_for_sending(target_frame_4)\n",
    "#     Rkorr_4 = xml.SubElement(root, \"Rkorr\", RkorrArrt_4)\n",
    "    \n",
    "    \n",
    "    IPOC = xml.SubElement(root, \"IPOC\")\n",
    "    IPOC.text = IPOCtimerReseived\n",
    "    \n",
    "    \n",
    "    \n",
    "    tree = xml.ElementTree(root)\n",
    "    \n",
    "    \n",
    "    DecodedTree = xml.tostring(root, encoding='utf8', method='xml', short_empty_elements='true', xml_declaration=False)\n",
    "    return(DecodedTree)"
   ]
  },
  {
   "cell_type": "code",
   "execution_count": 17,
   "id": "b7e9aaaa-24ff-47b3-a56c-91c02036c44a",
   "metadata": {},
   "outputs": [
    {
     "data": {
      "text/plain": [
       "b'<Sen Type=\"ImFree\"><XYZ1 X=\"0.1\" Y=\"0.2\" Z=\"0.3\" /><XYZ2 X=\"0\" Y=\"0\" Z=\"0\" /><XYZ3 X=\"0\" Y=\"0\" Z=\"0\" /><XYZ4 X=\"0\" Y=\"0\" Z=\"0\" /><IPOC>1</IPOC><IPOC>123456789</IPOC></Sen>'"
      ]
     },
     "execution_count": 17,
     "metadata": {},
     "output_type": "execute_result"
    }
   ],
   "source": [
    "create_xml()"
   ]
  },
  {
   "cell_type": "code",
   "execution_count": null,
   "id": "132330aa-78ab-4398-9905-dbb9ff6ad06f",
   "metadata": {},
   "outputs": [],
   "source": [
    "#calculated\n",
    "X = -633.939\n",
    "Y = -1455.747\n",
    "Z = 1219.194\n",
    "\n",
    "#$POS_ACT tool = 0, base = 0\n",
    "X = -613.631\n",
    "Y = -1448.92\n",
    "Z = 1201.029\n",
    "A = 168.276\n",
    "B = 68.202\n",
    "C = -154.673\n",
    "\n",
    "#camera\n",
    "X = 10\n",
    "Y = 20\n",
    "Z = 30\n",
    "A = 0\n",
    "B = 0\n",
    "C = 0\n",
    "\n",
    "#camera see object\n",
    "X = 0\n",
    "Y = 0\n",
    "Z = 13\n",
    "A = 0\n",
    "B = 0\n",
    "C = 0"
   ]
  },
  {
   "cell_type": "code",
   "execution_count": null,
   "id": "9c393609-dc90-4126-8781-527589cbb8a8",
   "metadata": {},
   "outputs": [],
   "source": []
  },
  {
   "cell_type": "code",
   "execution_count": null,
   "id": "b395eaa4-98c1-4a32-86b2-9e951f418305",
   "metadata": {},
   "outputs": [],
   "source": []
  },
  {
   "cell_type": "code",
   "execution_count": null,
   "id": "c8c097a2-f64a-4f9e-840a-54c43650091e",
   "metadata": {},
   "outputs": [],
   "source": []
  },
  {
   "cell_type": "code",
   "execution_count": null,
   "id": "9b121c7d-d3b4-4cae-996f-35da62e5fc60",
   "metadata": {},
   "outputs": [],
   "source": []
  },
  {
   "cell_type": "code",
   "execution_count": null,
   "id": "989b5031-bd5c-4ebe-a9dd-c397ebcc50d6",
   "metadata": {},
   "outputs": [],
   "source": []
  },
  {
   "cell_type": "code",
   "execution_count": 49,
   "id": "9d923336-0b77-435e-bf56-735b16370fd6",
   "metadata": {},
   "outputs": [
    {
     "data": {
      "text/plain": [
       "b'<Sen Type=\"ImFree\"><RKorr X=\"0.1\" Y=\"1.0\" Z=\"0.03\" A=\"0.0\" B=\"0.0\" C=\"0.0\" /><IPOC>123456789</IPOC></Sen>'"
      ]
     },
     "execution_count": 49,
     "metadata": {},
     "output_type": "execute_result"
    }
   ],
   "source": [
    "xml_parcel"
   ]
  },
  {
   "cell_type": "code",
   "execution_count": 2,
   "id": "0b28af6a-ff4b-4c79-a13e-d75fdfae0dc7",
   "metadata": {},
   "outputs": [],
   "source": [
    "def extract_xml(bytes_parcel, find = 'all'): # 'find' could be also the list of key-words\n",
    "    res_dict = dict()\n",
    "       \n",
    "    try: # checkking if we can parse input data to ElementTree\n",
    "        tree = xml.parse(io.BytesIO(bytes_parcel)) # xml.etree.ElementTree.ElementTree\n",
    "\n",
    "    except TypeError:\n",
    "        print('incorrect type of input data')\n",
    "\n",
    "    else:\n",
    "        try: # checking 'find'\n",
    "            find = find.lower()\n",
    "            \n",
    "\n",
    "        except AttributeError: #operating with list\n",
    "            root = tree.getroot()\n",
    "            \n",
    "            #print('cant make lowercase')\n",
    "            for i_tag in find:\n",
    "                elem = tree.find(i_tag)                \n",
    "                try: # if incorrect key_word in list\n",
    "                    if elem.text is not None:\n",
    "                        res_dict[elem.tag] = elem.text    # if element contains text\n",
    "                    else:\n",
    "                        res_dict[elem.tag] = elem.attrib  # if element contains dict\n",
    "                except AttributeError:\n",
    "                    print('Data do not contain \"{}\" key-word'.format(i_tag))\n",
    "\n",
    "\n",
    "\n",
    "        else: #checking ALL\n",
    "            if find == 'all':\n",
    "                root = tree.getroot()\n",
    "                if root.text is not None:        \n",
    "                    res_dict[root.tag] = root.text    # if element contains text\n",
    "                else:\n",
    "                    res_dict[root.tag] = root.attrib  # if element contains dict\n",
    "\n",
    "                for elem in root:\n",
    "                    if elem.text is not None:        \n",
    "                        res_dict[elem.tag] = elem.text    # if element contains text\n",
    "                    else:\n",
    "                        res_dict[elem.tag] = elem.attrib  # if element contains dict\n",
    "            else:\n",
    "                raise AttributeError('Use \"all\" or the list of keywords')\n",
    "\n",
    "            \n",
    "\n",
    "    return res_dict\n"
   ]
  },
  {
   "cell_type": "code",
   "execution_count": 31,
   "id": "b84727e0-14df-48bb-808b-71a0568e11e6",
   "metadata": {},
   "outputs": [
    {
     "name": "stdout",
     "output_type": "stream",
     "text": [
      "None\n"
     ]
    }
   ],
   "source": [
    "xml_parcel                               # bytes\n",
    "\n",
    "tree = xml.parse(io.BytesIO(xml_parcel)) # xml.etree.ElementTree.ElementTree\n",
    "root = tree.getroot()                    # xml.etree.ElementTree.Element\n",
    "\n",
    "# sub_elems = list()\n",
    "sub_elems = [elem for elem in root]\n",
    "elem_IPOC = tree.find('IPOC')\n",
    "elem_RKorr = tree.find('RKorr')\n",
    "# print(elem_RKorr)\n",
    "# elem_RKorr.tag\n",
    "print(elem_RKorr.text)\n",
    "# xml_parcel.getroot()"
   ]
  },
  {
   "cell_type": "code",
   "execution_count": 32,
   "id": "c3193cbd-76b6-4d13-8ce5-46d4445ca82a",
   "metadata": {},
   "outputs": [
    {
     "data": {
      "text/plain": [
       "xml.etree.ElementTree.Element"
      ]
     },
     "execution_count": 32,
     "metadata": {},
     "output_type": "execute_result"
    }
   ],
   "source": [
    "type(sub_elems[0])"
   ]
  },
  {
   "cell_type": "code",
   "execution_count": 8,
   "id": "8ac884c2-d635-479d-8a75-8ebdd39f8a12",
   "metadata": {},
   "outputs": [
    {
     "data": {
      "text/plain": [
       "{'XYZ1': {'X': '0.1',\n",
       "  'Y': '1.0',\n",
       "  'Z': '0.01',\n",
       "  'A': '0.0',\n",
       "  'B': '0.0',\n",
       "  'C': '0.0'}}"
      ]
     },
     "execution_count": 8,
     "metadata": {},
     "output_type": "execute_result"
    }
   ],
   "source": [
    "res_dict = extract_xml(telegram, find = ['XYZ1'])\n",
    "res_dict"
   ]
  },
  {
   "cell_type": "code",
   "execution_count": 41,
   "id": "5afa6ab1-4e29-4dfc-9016-cb3d6eda0b32",
   "metadata": {},
   "outputs": [
    {
     "data": {
      "text/plain": [
       "{'X': '0.1', 'Y': '1.0', 'Z': '0.03', 'A': '0.0', 'B': '0.0', 'C': '0.0'}"
      ]
     },
     "execution_count": 41,
     "metadata": {},
     "output_type": "execute_result"
    }
   ],
   "source": [
    "res_dict.pop('RKorr')"
   ]
  },
  {
   "cell_type": "code",
   "execution_count": 15,
   "id": "01fda431-5faf-4dbd-b7ed-1ca33591befd",
   "metadata": {},
   "outputs": [
    {
     "ename": "AttributeError",
     "evalue": "'str' object has no attribute 'lowcase'",
     "output_type": "error",
     "traceback": [
      "\u001b[1;31m---------------------------------------------------------------------------\u001b[0m",
      "\u001b[1;31mAttributeError\u001b[0m                            Traceback (most recent call last)",
      "\u001b[1;32m~\\AppData\\Local\\Temp\\ipykernel_23136\\463544092.py\u001b[0m in \u001b[0;36m<module>\u001b[1;34m\u001b[0m\n\u001b[1;32m----> 1\u001b[1;33m \u001b[1;34m'A'\u001b[0m\u001b[1;33m.\u001b[0m\u001b[0mlowcase\u001b[0m\u001b[1;33m(\u001b[0m\u001b[1;33m)\u001b[0m\u001b[1;33m\u001b[0m\u001b[1;33m\u001b[0m\u001b[0m\n\u001b[0m",
      "\u001b[1;31mAttributeError\u001b[0m: 'str' object has no attribute 'lowcase'"
     ]
    }
   ],
   "source": []
  },
  {
   "cell_type": "code",
   "execution_count": 58,
   "id": "bcc27571-ebc3-46ac-a3f2-f56b794e9676",
   "metadata": {},
   "outputs": [
    {
     "data": {
      "text/plain": [
       "True"
      ]
     },
     "execution_count": 58,
     "metadata": {},
     "output_type": "execute_result"
    }
   ],
   "source": [
    "d = {'XYZ1': {'X': '0.1', 'Y': '1.0', 'Z': '0.01', 'A': '0.0', 'B': '0.0', 'C': '0.0'}}\n",
    "s = 'stt'\n",
    "type(s) == str"
   ]
  },
  {
   "cell_type": "code",
   "execution_count": 48,
   "id": "fe4eb4ac-cda6-400c-aa13-bbe602b28303",
   "metadata": {},
   "outputs": [
    {
     "data": {
      "text/plain": [
       "['XYZ1']"
      ]
     },
     "execution_count": 48,
     "metadata": {},
     "output_type": "execute_result"
    }
   ],
   "source": [
    "list(d.keys())"
   ]
  },
  {
   "cell_type": "code",
   "execution_count": 3,
   "id": "7d46e949-ccec-4ad7-b8dc-8e42c1adaf09",
   "metadata": {},
   "outputs": [],
   "source": [
    "def create_xml(sent_mess_list):\n",
    "    \n",
    "    for num, elem in enumerate(sent_mess_list):\n",
    "        key = list(elem.keys())[0]\n",
    "        value = elem[key]\n",
    "        if type(value) == dict: \n",
    "            if num == 0: \n",
    "                root = xml.Element(key , elem[key])\n",
    "            else:\n",
    "                element_tree = xml.SubElement(root, key , elem[key])\n",
    "                \n",
    "        elif type(value) == str:\n",
    "            if num == 0:\n",
    "                root = xml.Element(key)\n",
    "                root.text = value \n",
    "            else:\n",
    "                element_tree = xml.SubElement(root, key)\n",
    "                element_tree.text = value                 \n",
    "            \n",
    "    tree = xml.ElementTree(root)    \n",
    "    DecodedTree = xml.tostring(root, encoding='utf8', method='xml', short_empty_elements='true', xml_declaration=False)\n",
    "    \n",
    "    return(DecodedTree)"
   ]
  },
  {
   "cell_type": "code",
   "execution_count": 9,
   "id": "b81841fd-01c2-41a4-b54b-2b9c520ad2e9",
   "metadata": {},
   "outputs": [
    {
     "data": {
      "text/plain": [
       "b'<Sen Type=\"ImFree\"><IPOC>123</IPOC></Sen>'"
      ]
     },
     "execution_count": 9,
     "metadata": {},
     "output_type": "execute_result"
    }
   ],
   "source": [
    "sent_mess_list = list() # List of dictionaries. every dictionary will be the element of ElementTree\n",
    "\n",
    "\n",
    "sent_mess_list.append({'Sen' : {'Type' : 'ImFree'}})\n",
    "# # # LIST OF 4 TARGETS ############################\n",
    "# sent_mess_list.append({'XYZ1': {'X': '0.1', 'Y': '1.0', 'Z': '0.01', 'A': '0.0', 'B': '0.0', 'C': '0.0'}})\n",
    "# # sent_mess_list.append({'XYZ2': {'X': '0.2', 'Y': '2.0', 'Z': '0.02', 'A': '0.0', 'B': '0.0', 'C': '0.0'}})\n",
    "# # sent_mess_list.append({'XYZ3': {'X': '0.3', 'Y': '3.0', 'Z': '0.03', 'A': '0.0', 'B': '0.0', 'C': '0.0'}})\n",
    "# # sent_mess_list.append({'XYZ4': {'X': '0.4', 'Y': '4.0', 'Z': '0.04', 'A': '0.0', 'B': '0.0', 'C': '0.0'}})  \n",
    "sent_mess_list.append({'IPOC': '123'})\n",
    " \n",
    "telegram = create_xml(sent_mess_list)\n",
    "telegram"
   ]
  },
  {
   "cell_type": "code",
   "execution_count": null,
   "id": "989034dc-6a44-41d4-9204-42e2ee6f5b87",
   "metadata": {},
   "outputs": [],
   "source": []
  }
 ],
 "metadata": {
  "kernelspec": {
   "display_name": "tf_gpu_Python3.9.18",
   "language": "python",
   "name": "tf_gpu"
  },
  "language_info": {
   "codemirror_mode": {
    "name": "ipython",
    "version": 3
   },
   "file_extension": ".py",
   "mimetype": "text/x-python",
   "name": "python",
   "nbconvert_exporter": "python",
   "pygments_lexer": "ipython3",
   "version": "3.9.18"
  }
 },
 "nbformat": 4,
 "nbformat_minor": 5
}
