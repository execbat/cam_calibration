{
 "cells": [
  {
   "cell_type": "code",
   "execution_count": 31,
   "id": "6c7e1c54-2e29-485d-bbb4-809e99eaf3c3",
   "metadata": {},
   "outputs": [],
   "source": [
    "from collections import deque\n",
    "\n",
    "q = deque(maxlen=1)"
   ]
  },
  {
   "cell_type": "code",
   "execution_count": 32,
   "id": "5408e21a-1e70-4439-b9e5-ad9264c184f2",
   "metadata": {},
   "outputs": [],
   "source": [
    "q.append(1)\n",
    "q.append(2)\n",
    "q.append(3)"
   ]
  },
  {
   "cell_type": "code",
   "execution_count": 28,
   "id": "2a42f5b6-df67-47eb-98f9-e5b21f526a00",
   "metadata": {},
   "outputs": [
    {
     "data": {
      "text/plain": [
       "3"
      ]
     },
     "execution_count": 28,
     "metadata": {},
     "output_type": "execute_result"
    }
   ],
   "source": [
    "q.pop()"
   ]
  },
  {
   "cell_type": "code",
   "execution_count": null,
   "id": "632f5e8b-b297-48fa-9337-8ae1ef3cf345",
   "metadata": {},
   "outputs": [],
   "source": []
  },
  {
   "cell_type": "code",
   "execution_count": 33,
   "id": "af6667cd-e8c9-4c30-83d8-1a9bf1b6dfbe",
   "metadata": {},
   "outputs": [],
   "source": [
    "import copy\n",
    "\n",
    "a = q.copy()"
   ]
  },
  {
   "cell_type": "code",
   "execution_count": 35,
   "id": "621085eb-a7ec-4db1-9327-4f3335a0ec18",
   "metadata": {},
   "outputs": [],
   "source": [
    "a = None\n",
    "a"
   ]
  },
  {
   "cell_type": "code",
   "execution_count": null,
   "id": "88f5249a-98eb-4f9c-9d37-c0352eab804d",
   "metadata": {},
   "outputs": [],
   "source": []
  }
 ],
 "metadata": {
  "kernelspec": {
   "display_name": "cam_calib_TF2.13.1",
   "language": "python",
   "name": "cam_calib"
  },
  "language_info": {
   "codemirror_mode": {
    "name": "ipython",
    "version": 3
   },
   "file_extension": ".py",
   "mimetype": "text/x-python",
   "name": "python",
   "nbconvert_exporter": "python",
   "pygments_lexer": "ipython3",
   "version": "3.9.18"
  }
 },
 "nbformat": 4,
 "nbformat_minor": 5
}
